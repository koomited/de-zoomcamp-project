{
 "cells": [
  {
   "cell_type": "markdown",
   "metadata": {},
   "source": [
    "# Libraries"
   ]
  },
  {
   "cell_type": "code",
   "execution_count": 2,
   "metadata": {},
   "outputs": [],
   "source": [
    "import os\n",
    "import requests\n",
    "import json"
   ]
  },
  {
   "cell_type": "markdown",
   "metadata": {},
   "source": [
    "# Get token programmmatically"
   ]
  },
  {
   "cell_type": "code",
   "execution_count": null,
   "metadata": {},
   "outputs": [
    {
     "name": "stdout",
     "output_type": "stream",
     "text": [
      "{'access_token': 'ory_at_jgssi6zitf7IgoG1wbccsZYAUWp5kqi8NFUVAHQlQtI.HKttVtk7Rf_NQt3aQiHEGMcx2d-VpIRj6vNZnQmiceg', 'expires_in': 31553999, 'scope': 'api', 'token_type': 'bearer'}\n"
     ]
    }
   ],
   "source": [
    "\n",
    "def oAuth_example():\n",
    "\n",
    "  url = \"https://oauth2.bitquery.io/oauth2/token\"\n",
    "\n",
    "  payload = 'grant_type=client_credentials&client_id=b5d0cf60-576d-4edc-a04f-779f6022470a&client_secret=e1WJBc6tYEPD9Z2CEo~1hektZy&scope=api'\n",
    "\n",
    "  headers = {'Content-Type': 'application/x-www-form-urlencoded'}\n",
    "\n",
    "  response = requests.request(\"POST\", url, headers=headers, data=payload)\n",
    "  resp = json.loads(response.text)\n",
    "  print(resp)\n",
    "  access_token=resp['access_token']\n",
    "\n",
    "  url_graphql = \"https://streaming.bitquery.io/graphql\"\n",
    "  headers_graphql = {\n",
    "      'Content-Type': 'application/json',\n",
    "      'Authorization': f'Bearer {access_token}'\n",
    "  }\n",
    "\n",
    "\n",
    "\n",
    "oAuth_example()"
   ]
  },
  {
   "cell_type": "code",
   "execution_count": 3,
   "metadata": {},
   "outputs": [],
   "source": [
    "API_KEY = os.getenv('API_KEY')"
   ]
  },
  {
   "cell_type": "code",
   "execution_count": 4,
   "metadata": {},
   "outputs": [
    {
     "data": {
      "text/plain": [
       "'Bearer ory_at_bsdgYItUpSmMah9ahPhmDZYLE2xSDwnwOpeFye2Vigo.kt8gzV0EgDsaxmFz8Z9RQEs_oejv7fenu6AwdBtl5mI'"
      ]
     },
     "execution_count": 4,
     "metadata": {},
     "output_type": "execute_result"
    }
   ],
   "source": [
    "API_KEY"
   ]
  },
  {
   "cell_type": "code",
   "execution_count": 18,
   "metadata": {},
   "outputs": [],
   "source": [
    "from datetime import date\n",
    "today = date.today()"
   ]
  },
  {
   "cell_type": "code",
   "execution_count": 19,
   "metadata": {},
   "outputs": [
    {
     "data": {
      "text/plain": [
       "datetime.date(2025, 2, 6)"
      ]
     },
     "execution_count": 19,
     "metadata": {},
     "output_type": "execute_result"
    }
   ],
   "source": [
    "today"
   ]
  },
  {
   "cell_type": "code",
   "execution_count": null,
   "metadata": {},
   "outputs": [],
   "source": []
  },
  {
   "cell_type": "code",
   "execution_count": 17,
   "metadata": {},
   "outputs": [
    {
     "name": "stdout",
     "output_type": "stream",
     "text": [
      "{\"data\":{\"EVM\":{\"Transfers\":[{\"Block\":{\"Number\":\"284143373\",\"Time\":\"2024-12-12T23:59:30Z\"},\"Call\":{\"CallPath\":[0,2],\"From\":\"0xe35e9842fceaca96570b734083f4a58e8f7c5f2a\",\"Signature\":{\"Name\":\"\"},\"To\":\"0xb2d26066c4a141784ef08d063d09f5b25546d8d3\",\"Value\":\"9061914606197072\"},\"Transfer\":{\"Amount\":\"0.009061914606197072\",\"Currency\":{\"Name\":\"Ethereum\",\"SmartContract\":\"0x\",\"Symbol\":\"ETH\"},\"Receiver\":\"0xb2d26066c4a141784ef08d063d09f5b25546d8d3\",\"Sender\":\"0xe35e9842fceaca96570b734083f4a58e8f7c5f2a\"}},{\"Block\":{\"Number\":\"284143373\",\"Time\":\"2024-12-12T23:59:30Z\"},\"Call\":{\"CallPath\":[0,0,0],\"From\":\"0x82af49447d8a07e3bd95bd0d56f35241523fbab1\",\"Signature\":{\"Name\":\"transferFrom\"},\"To\":\"0x8b194beae1d3e0788a1a35173978001acdfba668\",\"Value\":\"0\"},\"Transfer\":{\"Amount\":\"0.009061914606197072\",\"Currency\":{\"Name\":\"Wrapped Ether\",\"SmartContract\":\"0x82af49447d8a07e3bd95bd0d56f35241523fbab1\",\"Symbol\":\"WETH\"},\"Receiver\":\"0xe35e9842fceaca96570b734083f4a58e8f7c5f2a\",\"Sender\":\"0x3d7dc36aa2b542ad239012730dfdb23f03d75be9\"}},{\"Block\":{\"Number\":\"284143373\",\"Time\":\"2024-12-12T23:59:30Z\"},\"Call\":{\"CallPath\":[0,1,0],\"From\":\"0x82af49447d8a07e3bd95bd0d56f35241523fbab1\",\"Signature\":{\"Name\":\"withdraw\"},\"To\":\"0x8b194beae1d3e0788a1a35173978001acdfba668\",\"Value\":\"0\"},\"Transfer\":{\"Amount\":\"0.009061914606197072\",\"Currency\":{\"Name\":\"Wrapped Ether\",\"SmartContract\":\"0x82af49447d8a07e3bd95bd0d56f35241523fbab1\",\"Symbol\":\"WETH\"},\"Receiver\":\"0x0000000000000000000000000000000000000000\",\"Sender\":\"0xe35e9842fceaca96570b734083f4a58e8f7c5f2a\"}},{\"Block\":{\"Number\":\"284143373\",\"Time\":\"2024-12-12T23:59:30Z\"},\"Call\":{\"CallPath\":[0,1,0,0],\"From\":\"0x82af49447d8a07e3bd95bd0d56f35241523fbab1\",\"Signature\":{\"Name\":\"\"},\"To\":\"0xe35e9842fceaca96570b734083f4a58e8f7c5f2a\",\"Value\":\"9061914606197072\"},\"Transfer\":{\"Amount\":\"0.009061914606197072\",\"Currency\":{\"Name\":\"Ethereum\",\"SmartContract\":\"0x\",\"Symbol\":\"ETH\"},\"Receiver\":\"0xe35e9842fceaca96570b734083f4a58e8f7c5f2a\",\"Sender\":\"0x82af49447d8a07e3bd95bd0d56f35241523fbab1\"}},{\"Block\":{\"Number\":\"284143354\",\"Time\":\"2024-12-12T23:59:25Z\"},\"Call\":{\"CallPath\":[0],\"From\":\"0xe35e9842fceaca96570b734083f4a58e8f7c5f2a\",\"Signature\":{\"Name\":\"depositExclusive\"},\"To\":\"0x4d11a23e4408ef08ae1216b3917560e0001cd000\",\"Value\":\"300000000000000\"},\"Transfer\":{\"Amount\":\"300000000000000\",\"Currency\":{\"Name\":\"\",\"SmartContract\":\"0xe35e9842fceaca96570b734083f4a58e8f7c5f2a\",\"Symbol\":\"\"},\"Receiver\":\"0xe35e9842fceaca96570b734083f4a58e8f7c5f2a\",\"Sender\":\"0x0000000000000000000000000000000000000000\"}},{\"Block\":{\"Number\":\"284143354\",\"Time\":\"2024-12-12T23:59:25Z\"},\"Call\":{\"CallPath\":[],\"From\":\"0x520f8e23be2a3f69dd3e633a9f17964a4a3af646\",\"Signature\":{\"Name\":\"depositExclusive\"},\"To\":\"0xe35e9842fceaca96570b734083f4a58e8f7c5f2a\",\"Value\":\"300000000000000\"},\"Transfer\":{\"Amount\":\"0.000300000000000000\",\"Currency\":{\"Name\":\"Ethereum\",\"SmartContract\":\"0x\",\"Symbol\":\"ETH\"},\"Receiver\":\"0xe35e9842fceaca96570b734083f4a58e8f7c5f2a\",\"Sender\":\"0x520f8e23be2a3f69dd3e633a9f17964a4a3af646\"}},{\"Block\":{\"Number\":\"284143354\",\"Time\":\"2024-12-12T23:59:25Z\"},\"Call\":{\"CallPath\":[0,0,0],\"From\":\"0x82af49447d8a07e3bd95bd0d56f35241523fbab1\",\"Signature\":{\"Name\":\"deposit\"},\"To\":\"0x8b194beae1d3e0788a1a35173978001acdfba668\",\"Value\":\"300000000000000\"},\"Transfer\":{\"Amount\":\"0.000300000000000000\",\"Currency\":{\"Name\":\"Wrapped Ether\",\"SmartContract\":\"0x82af49447d8a07e3bd95bd0d56f35241523fbab1\",\"Symbol\":\"WETH\"},\"Receiver\":\"0xe35e9842fceaca96570b734083f4a58e8f7c5f2a\",\"Sender\":\"0x0000000000000000000000000000000000000000\"}},{\"Block\":{\"Number\":\"284143354\",\"Time\":\"2024-12-12T23:59:25Z\"},\"Call\":{\"CallPath\":[0,0],\"From\":\"0xe35e9842fceaca96570b734083f4a58e8f7c5f2a\",\"Signature\":{\"Name\":\"deposit\"},\"To\":\"0x82af49447d8a07e3bd95bd0d56f35241523fbab1\",\"Value\":\"300000000000000\"},\"Transfer\":{\"Amount\":\"0.000300000000000000\",\"Currency\":{\"Name\":\"Ethereum\",\"SmartContract\":\"0x\",\"Symbol\":\"ETH\"},\"Receiver\":\"0x82af49447d8a07e3bd95bd0d56f35241523fbab1\",\"Sender\":\"0xe35e9842fceaca96570b734083f4a58e8f7c5f2a\"}},{\"Block\":{\"Number\":\"284143311\",\"Time\":\"2024-12-12T23:59:14Z\"},\"Call\":{\"CallPath\":[0,0],\"From\":\"0xe35e9842fceaca96570b734083f4a58e8f7c5f2a\",\"Signature\":{\"Name\":\"deposit\"},\"To\":\"0x82af49447d8a07e3bd95bd0d56f35241523fbab1\",\"Value\":\"3000000000000000\"},\"Transfer\":{\"Amount\":\"0.003000000000000000\",\"Currency\":{\"Name\":\"Ethereum\",\"SmartContract\":\"0x\",\"Symbol\":\"ETH\"},\"Receiver\":\"0x82af49447d8a07e3bd95bd0d56f35241523fbab1\",\"Sender\":\"0xe35e9842fceaca96570b734083f4a58e8f7c5f2a\"}},{\"Block\":{\"Number\":\"284143311\",\"Time\":\"2024-12-12T23:59:14Z\"},\"Call\":{\"CallPath\":[],\"From\":\"0x1c81367e2de5219530e80250c0793d80a52f091d\",\"Signature\":{\"Name\":\"depositV3\"},\"To\":\"0xe35e9842fceaca96570b734083f4a58e8f7c5f2a\",\"Value\":\"3000000000000000\"},\"Transfer\":{\"Amount\":\"0.003000000000000000\",\"Currency\":{\"Name\":\"Ethereum\",\"SmartContract\":\"0x\",\"Symbol\":\"ETH\"},\"Receiver\":\"0xe35e9842fceaca96570b734083f4a58e8f7c5f2a\",\"Sender\":\"0x1c81367e2de5219530e80250c0793d80a52f091d\"}}]}}}\n"
     ]
    }
   ],
   "source": [
    "query = \"\"\"{\n",
    "  EVM(dataset: combined, network: arbitrum) {\n",
    "    Transfers(\n",
    "      where: {\n",
    "        Transaction: {\n",
    "          To: { is: \"0xe35e9842fceaca96570b734083f4a58e8f7c5f2a\" }\n",
    "        }\n",
    "        Block: { Date: { is: \"2024-12-12\" } }\n",
    "      }\n",
    "      limit: { count: 10 }\n",
    "      orderBy: { descending: Block_Number }\n",
    "    ) {\n",
    "      Transfer {\n",
    "        Amount\n",
    "        Currency {\n",
    "          Name\n",
    "          Symbol\n",
    "          SmartContract\n",
    "        }\n",
    "        Sender\n",
    "        Receiver\n",
    "      }\n",
    "      Call {\n",
    "        Signature {\n",
    "          Name\n",
    "        }\n",
    "        From\n",
    "        To\n",
    "        Value\n",
    "        CallPath\n",
    "      }\n",
    "      Block {\n",
    "        Number\n",
    "        Time\n",
    "      }\n",
    "    }\n",
    "  }\n",
    "}\n",
    "\"\"\"\n",
    "url = \"https://streaming.bitquery.io/graphql\"\n",
    "\n",
    "payload = json.dumps({\n",
    "   \"query\": query,\n",
    "\n",
    "   \"variables\": \"{}\"\n",
    "})\n",
    "headers = {\n",
    "   'Content-Type': 'application/json',\n",
    "   'Authorization': API_KEY\n",
    "}\n",
    "\n",
    "response = requests.request(\"POST\", url, headers=headers, data=payload)\n",
    "\n",
    "print(response.text)\n"
   ]
  },
  {
   "cell_type": "code",
   "execution_count": null,
   "metadata": {},
   "outputs": [],
   "source": []
  },
  {
   "cell_type": "code",
   "execution_count": 6,
   "metadata": {},
   "outputs": [],
   "source": [
    "import requests\n",
    "\n",
    "\n",
    "def run_query(query, api_key):  # A simple function to use requests.post to make the API call.\n",
    "    headers = {'X-API-KEY': api_key}\n",
    "    request = requests.post(url,\n",
    "                            json={'query': query}, headers=headers)\n",
    "    if request.status_code == 200:\n",
    "        return request.json()\n",
    "    else:\n",
    "        raise Exception('Query failed and return code is {}.      {}'.format(request.status_code,\n",
    "                        request.text))"
   ]
  },
  {
   "cell_type": "code",
   "execution_count": 7,
   "metadata": {},
   "outputs": [
    {
     "ename": "Exception",
     "evalue": "Query failed and return code is 401.      Unauthorized. You have to use Authorization or X-API-KEY tokens as described in the documentation https://docs.bitquery.io/docs/category/authorization",
     "output_type": "error",
     "traceback": [
      "\u001b[0;31m---------------------------------------------------------------------------\u001b[0m",
      "\u001b[0;31mException\u001b[0m                                 Traceback (most recent call last)",
      "Cell \u001b[0;32mIn[7], line 12\u001b[0m\n\u001b[1;32m      1\u001b[0m \u001b[38;5;66;03m# The GraphQL query\u001b[39;00m\n\u001b[1;32m      3\u001b[0m query \u001b[38;5;241m=\u001b[39m \u001b[38;5;124m\"\"\"\u001b[39m\n\u001b[1;32m      4\u001b[0m \u001b[38;5;124m    query\u001b[39m\u001b[38;5;124m{\u001b[39m\n\u001b[1;32m      5\u001b[0m \u001b[38;5;124m      bitcoin\u001b[39m\u001b[38;5;124m{\u001b[39m\n\u001b[0;32m   (...)\u001b[0m\n\u001b[1;32m     10\u001b[0m \u001b[38;5;124m    }\u001b[39m\n\u001b[1;32m     11\u001b[0m \u001b[38;5;124m\"\"\"\u001b[39m\n\u001b[0;32m---> 12\u001b[0m result \u001b[38;5;241m=\u001b[39m \u001b[43mrun_query\u001b[49m\u001b[43m(\u001b[49m\u001b[43mquery\u001b[49m\u001b[43m,\u001b[49m\u001b[43m \u001b[49m\u001b[43mapi_key\u001b[49m\u001b[38;5;241;43m=\u001b[39;49m\u001b[43mAPI_KEY\u001b[49m\u001b[43m)\u001b[49m  \u001b[38;5;66;03m# Execute the query\u001b[39;00m\n\u001b[1;32m     13\u001b[0m \u001b[38;5;28mprint\u001b[39m (\u001b[38;5;124m'\u001b[39m\u001b[38;5;124mResult - \u001b[39m\u001b[38;5;132;01m{}\u001b[39;00m\u001b[38;5;124m'\u001b[39m\u001b[38;5;241m.\u001b[39mformat(result))\n",
      "Cell \u001b[0;32mIn[6], line 11\u001b[0m, in \u001b[0;36mrun_query\u001b[0;34m(query, api_key)\u001b[0m\n\u001b[1;32m      9\u001b[0m     \u001b[38;5;28;01mreturn\u001b[39;00m request\u001b[38;5;241m.\u001b[39mjson()\n\u001b[1;32m     10\u001b[0m \u001b[38;5;28;01melse\u001b[39;00m:\n\u001b[0;32m---> 11\u001b[0m     \u001b[38;5;28;01mraise\u001b[39;00m \u001b[38;5;167;01mException\u001b[39;00m(\u001b[38;5;124m'\u001b[39m\u001b[38;5;124mQuery failed and return code is \u001b[39m\u001b[38;5;132;01m{}\u001b[39;00m\u001b[38;5;124m.      \u001b[39m\u001b[38;5;132;01m{}\u001b[39;00m\u001b[38;5;124m'\u001b[39m\u001b[38;5;241m.\u001b[39mformat(request\u001b[38;5;241m.\u001b[39mstatus_code,\n\u001b[1;32m     12\u001b[0m                     request\u001b[38;5;241m.\u001b[39mtext))\n",
      "\u001b[0;31mException\u001b[0m: Query failed and return code is 401.      Unauthorized. You have to use Authorization or X-API-KEY tokens as described in the documentation https://docs.bitquery.io/docs/category/authorization"
     ]
    }
   ],
   "source": [
    "\n",
    "# The GraphQL query\n",
    "\n",
    "query = \"\"\"\n",
    "    query{\n",
    "      bitcoin{\n",
    "        blocks{\n",
    "          count\n",
    "        }\n",
    "      }\n",
    "    }\n",
    "\"\"\"\n",
    "result = run_query(query, api_key=API_KEY)  # Execute the query\n",
    "print ('Result - {}'.format(result))"
   ]
  },
  {
   "cell_type": "code",
   "execution_count": 14,
   "metadata": {},
   "outputs": [
    {
     "ename": "TypeError",
     "evalue": "'module' object is not callable",
     "output_type": "error",
     "traceback": [
      "\u001b[0;31m---------------------------------------------------------------------------\u001b[0m",
      "\u001b[0;31mTypeError\u001b[0m                                 Traceback (most recent call last)",
      "Cell \u001b[0;32mIn[14], line 28\u001b[0m\n\u001b[1;32m     19\u001b[0m     query \u001b[38;5;241m=\u001b[39m {\n\u001b[1;32m     20\u001b[0m         \u001b[38;5;124m\"\u001b[39m\u001b[38;5;124mtype\u001b[39m\u001b[38;5;124m\"\u001b[39m: \u001b[38;5;124m\"\u001b[39m\u001b[38;5;124msubscribe\u001b[39m\u001b[38;5;124m\"\u001b[39m,\n\u001b[1;32m     21\u001b[0m         \u001b[38;5;124m\"\u001b[39m\u001b[38;5;124mquery\u001b[39m\u001b[38;5;124m\"\u001b[39m: {\n\u001b[0;32m   (...)\u001b[0m\n\u001b[1;32m     24\u001b[0m         }\n\u001b[1;32m     25\u001b[0m     }\n\u001b[1;32m     26\u001b[0m     ws\u001b[38;5;241m.\u001b[39msend(json\u001b[38;5;241m.\u001b[39mdumps(query))  \u001b[38;5;66;03m# Send subscription request\u001b[39;00m\n\u001b[0;32m---> 28\u001b[0m ws \u001b[38;5;241m=\u001b[39m \u001b[43mwebsocket\u001b[49m\u001b[43m(\u001b[49m\n\u001b[1;32m     29\u001b[0m \u001b[43m    \u001b[49m\u001b[38;5;124;43m\"\u001b[39;49m\u001b[38;5;124;43mwss://streaming.bitquery.io/trades\u001b[39;49m\u001b[38;5;124;43m\"\u001b[39;49m\u001b[43m,\u001b[49m\n\u001b[1;32m     30\u001b[0m \u001b[43m    \u001b[49m\u001b[43mheader\u001b[49m\u001b[38;5;241;43m=\u001b[39;49m\u001b[43m{\u001b[49m\u001b[38;5;124;43m\"\u001b[39;49m\u001b[38;5;124;43mX-API-KEY\u001b[39;49m\u001b[38;5;124;43m\"\u001b[39;49m\u001b[43m:\u001b[49m\u001b[43m \u001b[49m\u001b[43mBITQUERY_API_KEY\u001b[49m\u001b[43m}\u001b[49m\u001b[43m,\u001b[49m\n\u001b[1;32m     31\u001b[0m \u001b[43m    \u001b[49m\u001b[43mon_message\u001b[49m\u001b[38;5;241;43m=\u001b[39;49m\u001b[43mon_message\u001b[49m\u001b[43m,\u001b[49m\n\u001b[1;32m     32\u001b[0m \u001b[43m    \u001b[49m\u001b[43mon_error\u001b[49m\u001b[38;5;241;43m=\u001b[39;49m\u001b[43mon_error\u001b[49m\u001b[43m,\u001b[49m\n\u001b[1;32m     33\u001b[0m \u001b[43m    \u001b[49m\u001b[43mon_close\u001b[49m\u001b[38;5;241;43m=\u001b[39;49m\u001b[43mon_close\u001b[49m\n\u001b[1;32m     34\u001b[0m \u001b[43m)\u001b[49m\n\u001b[1;32m     36\u001b[0m ws\u001b[38;5;241m.\u001b[39mon_open \u001b[38;5;241m=\u001b[39m on_open\n\u001b[1;32m     37\u001b[0m ws\u001b[38;5;241m.\u001b[39mrun_forever()\n",
      "\u001b[0;31mTypeError\u001b[0m: 'module' object is not callable"
     ]
    }
   ],
   "source": [
    "import websocket\n",
    "import json\n",
    "\n",
    "BITQUERY_API_KEY = API_KEY  # Replace with your Bitquery V2 API key\n",
    "\n",
    "def on_message(ws, message):\n",
    "    data = json.loads(message)\n",
    "    print(\"New Transaction:\")\n",
    "    print(json.dumps(data, indent=4))  # Pretty-print the JSON response\n",
    "\n",
    "def on_error(ws, error):\n",
    "    print(\"Error:\", error)\n",
    "\n",
    "def on_close(ws, close_status_code, close_msg):\n",
    "    print(\"Closed:\", close_status_code, close_msg)\n",
    "\n",
    "def on_open(ws):\n",
    "    print(\"Connected to Bitquery WebSocket\")\n",
    "    query = {\n",
    "        \"type\": \"subscribe\",\n",
    "        \"query\": {\n",
    "            \"network\": \"ethereum\",  # Change to \"bsc\", \"polygon\", etc.\n",
    "            \"limit\": 10  # Adjust the limit of transactions to receive at a time\n",
    "        }\n",
    "    }\n",
    "    ws.send(json.dumps(query))  # Send subscription request\n",
    "\n",
    "ws = websocket(\n",
    "    \"wss://streaming.bitquery.io/trades\",\n",
    "    header={\"X-API-KEY\": BITQUERY_API_KEY},\n",
    "    on_message=on_message,\n",
    "    on_error=on_error,\n",
    "    on_close=on_close\n",
    ")\n",
    "\n",
    "ws.on_open = on_open\n",
    "ws.run_forever()\n"
   ]
  },
  {
   "cell_type": "code",
   "execution_count": null,
   "metadata": {},
   "outputs": [],
   "source": []
  }
 ],
 "metadata": {
  "kernelspec": {
   "display_name": "venv",
   "language": "python",
   "name": "python3"
  },
  "language_info": {
   "codemirror_mode": {
    "name": "ipython",
    "version": 3
   },
   "file_extension": ".py",
   "mimetype": "text/x-python",
   "name": "python",
   "nbconvert_exporter": "python",
   "pygments_lexer": "ipython3",
   "version": "3.12.3"
  }
 },
 "nbformat": 4,
 "nbformat_minor": 2
}
